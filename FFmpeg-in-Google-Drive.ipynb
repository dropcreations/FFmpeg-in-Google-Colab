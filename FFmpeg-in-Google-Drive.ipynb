{
  "nbformat": 4,
  "nbformat_minor": 0,
  "metadata": {
    "colab": {
      "provenance": [],
      "authorship_tag": "ABX9TyOoQKmSplYfNUCJsAfqQ5iD",
      "include_colab_link": true
    },
    "kernelspec": {
      "name": "python3",
      "display_name": "Python 3"
    },
    "language_info": {
      "name": "python"
    }
  },
  "cells": [
    {
      "cell_type": "markdown",
      "metadata": {
        "id": "view-in-github",
        "colab_type": "text"
      },
      "source": [
        "<a href=\"https://colab.research.google.com/github/dropcreations/FFmpeg-in-Google-Colab/blob/main/FFmpeg-in-Google-Drive.ipynb\" target=\"_parent\"><img src=\"https://colab.research.google.com/assets/colab-badge.svg\" alt=\"Open In Colab\"/></a>"
      ]
    },
    {
      "cell_type": "markdown",
      "metadata": {
        "id": "KAj1Zu19Q9ft"
      },
      "source": [
        "# __Mount Google Drive__"
      ]
    },
    {
      "cell_type": "code",
      "metadata": {
        "cellView": "form",
        "id": "3MrwsMPDRR6E"
      },
      "source": [
        "#@markdown <br><center><img src='https://raw.githubusercontent.com/dropcreations/FFmpeg-for-Google-Colab/1bd5d8aeb88c8f402a9aea4846fab6304e7d8e43/Google-Drive-Logo.svg' height=\"50\" alt=\"Gdrive-logo\"/></center>\n",
        "#@markdown <center><h3><b>Mount Google Drive</b></h3></center><br>\n",
        "\n",
        "from google.colab import drive\n",
        "\n",
        "mode = \"Mount\" #@param [\"Mount\", \"Unmount\"]\n",
        "drive.mount._DEBUG = False\n",
        "\n",
        "if mode == \"Mount\":\n",
        "    drive.mount('/content/drive', force_remount=True)\n",
        "elif mode == \"Unmount\":\n",
        "    try: drive.flush_and_unmount()\n",
        "    except ValueError: pass\n",
        "    !rm -rf /root/.config/Google/DriveFS"
      ],
      "execution_count": null,
      "outputs": []
    },
    {
      "cell_type": "markdown",
      "metadata": {
        "id": "cvpmFxFwQbUB"
      },
      "source": [
        "# __Install FFmpeg__"
      ]
    },
    {
      "cell_type": "code",
      "metadata": {
        "cellView": "form",
        "id": "M9QHuevAQ3nm"
      },
      "source": [
        "#@markdown <br><center><img src='https://raw.githubusercontent.com/dropcreations/FFmpeg-for-Google-Colab/32abf44ff4c8d145a94a24611f01141926a8daaa/FFmpeg-Logo.svg' height=\"40\" alt=\"FFmpeg-logo\"/></center>\n",
        "#@markdown <center><h3><b>Install FFmpeg</b></h3></center><br>\n",
        "from IPython.display import clear_output\n",
        "!sudo curl -L https://github.com/BtbN/FFmpeg-Builds/releases/download/latest/ffmpeg-master-latest-linux64-gpl.tar.xz -o /usr/local/bin/ffmpeg.tar.xz\n",
        "clear_output()\n",
        "%cd /usr/local/bin/\n",
        "clear_output()\n",
        "!7z e /usr/local/bin/ffmpeg.tar.xz\n",
        "clear_output()\n",
        "!7z e /usr/local/bin/ffmpeg.tar\n",
        "clear_output()\n",
        "!sudo chmod a+rx /usr/local/bin/ffmpeg\n",
        "clear_output()\n",
        "%cd /content/\n",
        "!sudo curl -L https://mkvtoolnix.download/appimage/MKVToolNix_GUI-70.0.0-x86_64.AppImage -o /usr/local/bin/MKVToolNix_GUI-70.0.0-x86_64.AppImage\n",
        "!sudo chmod u+rx /usr/local/bin/MKVToolNix_GUI-70.0.0-x86_64.AppImage\n",
        "!sudo ln -s /usr/local/bin/MKVToolNix_GUI-70.0.0-x86_64.AppImage /usr/local/bin/mkvmerge\n",
        "!sudo chmod a+rx /usr/local/bin/mkvmerge\n",
        "clear_output()\n",
        "!ffmpeg -version"
      ],
      "execution_count": null,
      "outputs": []
    },
    {
      "cell_type": "markdown",
      "source": [
        "### __Remux Video Files__"
      ],
      "metadata": {
        "id": "bSKeErgLMe4a"
      }
    },
    {
      "cell_type": "markdown",
      "source": [
        "* **REMUX** video files without **RE-ENCODING**.\n",
        "* Make sure that `outputFormat` that you have selected is supported for all tracks in the `inputFile`.\n",
        "* `WebM` only support `VP9`, `VP8`, `AV1` video and `Vorbis`, `Opus` audio and `WebVTT` subtitles."
      ],
      "metadata": {
        "id": "7rdtqTIKMix6"
      }
    },
    {
      "cell_type": "code",
      "source": [
        "import os\n",
        "\n",
        "inputFile = \"\" #@param {type:\"string\"}\n",
        "outputFormat = \"mp4\" #@param [\"mp4\", \"mkv\", \"mov\", \"webm\"]\n",
        "saveToSourceLocation = True #@param {type:\"boolean\"}\n",
        "\n",
        "commandLine = '-hide_banner -i \"' + inputFile + '\" -map 0:v? -c:v copy -map 0:a? -c:a copy '\n",
        "\n",
        "if outputFormat == \"mp4\" or outputFormat == \"mov\":\n",
        "    commandLine = commandLine + '-map 0:s? -c:s mov_text -movflags +faststart '\n",
        "elif outputFormat == \"webm\":\n",
        "    commandLine = commandLine + '-map 0:s? -c:s webvtt '\n",
        "\n",
        "sourceName = os.path.splitext(os.path.basename(os.path.abspath(inputFile)))[0]\n",
        "sourceFolder = os.path.dirname(os.path.abspath(inputFile))\n",
        "\n",
        "if saveToSourceLocation:\n",
        "    outputFile = os.path.join(sourceFolder, (sourceName + '.' + outputFormat))\n",
        "    if os.path.isfile(outputFile):\n",
        "        outputFile = os.path.join(sourceFolder, (sourceName + '_[REMUX].' + outputFormat))\n",
        "    commandLine = commandLine + '\"' + outputFile + '\"'\n",
        "else:\n",
        "    outputFolder = input(\"outputFolder: \")\n",
        "    outputFile = os.path.join(outputFolder, (sourceName + '.' + outputFormat))\n",
        "    if os.path.isfile(outputFile):\n",
        "        outputFile = os.path.join(outputFolder, (sourceName + '_[REMUX].' + outputFormat))\n",
        "    commandLine = commandLine + '\"' + outputFile + '\"'\n",
        "\n",
        "!ffmpeg {commandLine}"
      ],
      "metadata": {
        "cellView": "form",
        "id": "qu8d7FCFMmzE"
      },
      "execution_count": null,
      "outputs": []
    },
    {
      "cell_type": "markdown",
      "source": [
        "### __Trim Video Files__"
      ],
      "metadata": {
        "id": "v9q3MG6nMroF"
      }
    },
    {
      "cell_type": "markdown",
      "source": [
        "* **TRIM** video files without **RE-ENCODING**.\n",
        "* `inputFile`: video file's path and set `startTime` and `endTime` to trim.\n",
        "* Trimed video will be saved as same as the **source's format**."
      ],
      "metadata": {
        "id": "YDyYZuqeMvOk"
      }
    },
    {
      "cell_type": "code",
      "source": [
        "import os\n",
        "\n",
        "inputFile = \"\" #@param {type:\"string\"}\n",
        "startTime = \"00:00:00.000\" #@param {type:\"string\"}\n",
        "endTime = \"00:00:00.000\" #@param {type:\"string\"}\n",
        "saveToSourceLocation = True #@param {type:\"boolean\"}\n",
        "\n",
        "commandLine = '-hide_banner -i \"' + inputFile + '\" -map 0 -c copy -ss ' + startTime + ' -to ' + endTime + ' '\n",
        "\n",
        "sourceName = os.path.splitext(os.path.basename(os.path.abspath(inputFile)))[0]\n",
        "sourceExtention = os.path.splitext(os.path.basename(os.path.abspath(inputFile)))[1]\n",
        "sourceFolder = os.path.dirname(os.path.abspath(inputFile))\n",
        "\n",
        "if saveToSourceLocation:\n",
        "    outputFile = os.path.join(sourceFolder, (sourceName + f'_[{startTime}-{endTime}]' + sourceExtention))\n",
        "    commandLine = commandLine + '\"' + outputFile + '\"'\n",
        "else:\n",
        "    outputFolder = input(\"outputFolder: \")\n",
        "    outputFile = os.path.join(outputFolder, (sourceName + f'_[{startTime}-{endTime}]' + sourceExtention))\n",
        "    commandLine = commandLine + '\"' + outputFile + '\"'\n",
        "\n",
        "!ffmpeg {commandLine}"
      ],
      "metadata": {
        "cellView": "form",
        "id": "54gK9-TYMzGF"
      },
      "execution_count": null,
      "outputs": []
    },
    {
      "cell_type": "markdown",
      "source": [
        "### __Extract Audio__"
      ],
      "metadata": {
        "id": "J5R7BtJTM3rj"
      }
    },
    {
      "cell_type": "markdown",
      "source": [
        "* **EXTRACT** audio tracks from video files.\n",
        "* `DTS`, `DTS-HD`, `DTS-MA`, `TrueHD` tracks will be muxed as a `.mka` file."
      ],
      "metadata": {
        "id": "JHrxRvXjM65Q"
      }
    },
    {
      "cell_type": "code",
      "source": [
        "import os\n",
        "import json\n",
        "import subprocess\n",
        "import prettytable\n",
        "\n",
        "inputFile = \"\" #@param {type:\"string\"}\n",
        "saveToSourceLocation = True #@param {type:\"boolean\"}\n",
        "\n",
        "jsonFFprobe = subprocess.check_output([\n",
        "    'ffprobe',\n",
        "    '-hide_banner',\n",
        "    '-loglevel',\n",
        "    'warning',\n",
        "    '-print_format',\n",
        "    'json',\n",
        "    '-show_entries',\n",
        "    'stream',\n",
        "    '-i',\n",
        "    os.path.abspath(inputFile),\n",
        "    ], stderr=subprocess.DEVNULL)\n",
        "jsonData = json.loads(jsonFFprobe)\n",
        "\n",
        "streamCount = len(jsonData['streams'])\n",
        "commandLine = '-hide_banner -i \"' + inputFile + '\" '\n",
        "\n",
        "codecTable = prettytable.PrettyTable()\n",
        "codecTable.field_names = ['Track ID', 'Codec name', 'Channels', 'Sample rate']\n",
        "codecTable.align = 'l'\n",
        "\n",
        "for i in range(streamCount):\n",
        "    codec_type = jsonData.get('streams')[int(i)].get('codec_type')\n",
        "    if codec_type == \"audio\":\n",
        "        index = jsonData.get('streams')[int(i)].get('index')\n",
        "        codec_name = jsonData.get('streams')[int(i)].get('codec_name')\n",
        "        channel_layout = jsonData.get('streams')[int(i)].get('channels')\n",
        "        sample_rate = jsonData.get('streams')[int(i)].get('sample_rate')\n",
        "        codecTable.add_row([index, codec_name, channel_layout, sample_rate])\n",
        "\n",
        "stringTable = '\\t' + codecTable.__str__().replace('\\n', '\\n\\t')\n",
        "print(stringTable)\n",
        "\n",
        "trackID = input(\"\\ntrackID: \")\n",
        "codec_name = jsonData.get('streams')[int(trackID)].get('codec_name')\n",
        "if \"opus\" in codec_name:\n",
        "    codec_ext = \"ogg\"\n",
        "elif \"dts\" in codec_name:\n",
        "    codec_ext = \"mka\"\n",
        "elif \"aac\" in codec_name:\n",
        "    codec_ext = \"aac\"\n",
        "elif \"truehd\" in codec_name:\n",
        "    codec_ext = \"mka\"\n",
        "elif codec_name == \"ac3\":\n",
        "    codec_ext = \"ac3\"\n",
        "elif codec_name == \"eac3\":\n",
        "    codec_ext = \"eac3\"\n",
        "elif \"pcm\" in codec_name:\n",
        "    codec_ext = \"wav\"\n",
        "elif \"flac\" in codec_name:\n",
        "    codec_ext = \"flac\"\n",
        "\n",
        "commandLine = commandLine + \"-vn -sn -map 0:\" + str(trackID) + \" -c copy \"\n",
        "\n",
        "sourceName = os.path.splitext(os.path.basename(os.path.abspath(inputFile)))[0]\n",
        "sourceFolder = os.path.dirname(os.path.abspath(inputFile))\n",
        "\n",
        "if saveToSourceLocation:\n",
        "    outputFile = os.path.join(sourceFolder, (sourceName + f'_[{codec_name}].' + codec_ext))\n",
        "    commandLine = commandLine + '\"' + outputFile + '\"'\n",
        "else:\n",
        "    outputFolder = input(\"outputFolder: \")\n",
        "    outputFile = os.path.join(outputFolder, (sourceName + f'_[{codec_name}].' + codec_ext))\n",
        "    commandLine = commandLine + '\"' + outputFile + '\"'\n",
        "\n",
        "!ffmpeg {commandLine}"
      ],
      "metadata": {
        "cellView": "form",
        "id": "9ReL8LPWM_gJ"
      },
      "execution_count": null,
      "outputs": []
    },
    {
      "cell_type": "markdown",
      "source": [
        "### __Remove Bitstream Metadata__"
      ],
      "metadata": {
        "id": "2HhXoSQFNDMV"
      }
    },
    {
      "cell_type": "markdown",
      "source": [
        "* For `H.264`/`AVC` tracks run below cell."
      ],
      "metadata": {
        "id": "D9bDZPonNF_7"
      }
    },
    {
      "cell_type": "code",
      "source": [
        "import os\n",
        "import json\n",
        "import subprocess\n",
        "\n",
        "inputFile = \"\" #@param {type:\"string\"}\n",
        "saveToSourceLocation = True #@param {type:\"boolean\"}\n",
        "\n",
        "jsonFFprobe = subprocess.check_output([\n",
        "    'ffprobe',\n",
        "    '-hide_banner',\n",
        "    '-loglevel',\n",
        "    'warning',\n",
        "    '-print_format',\n",
        "    'json',\n",
        "    '-show_entries',\n",
        "    'stream',\n",
        "    '-i',\n",
        "    os.path.abspath(inputFile),\n",
        "    ], stderr=subprocess.DEVNULL)\n",
        "jsonData = json.loads(jsonFFprobe)\n",
        "\n",
        "streamCount = len(jsonData['streams'])\n",
        "commandLine = '-hide_banner -i \"' + inputFile + '\" '\n",
        "\n",
        "for i in range(streamCount):\n",
        "    codec_name = jsonData.get('streams')[int(i)].get('codec_name')\n",
        "    if codec_name == \"h264\":\n",
        "        index = jsonData.get('streams')[int(i)].get('index')\n",
        "        commandLine = commandLine + f'-map 0:{index} '\n",
        "\n",
        "commandLine = commandLine + '-c:v copy -map 0:a? -c:a copy -map 0:s? -c:s copy -bitexact -map_metadata -1 -vbsf filter_units=remove_types=6 '\n",
        "\n",
        "sourceName = os.path.splitext(os.path.basename(os.path.abspath(inputFile)))[0]\n",
        "sourceExtention = os.path.splitext(os.path.basename(os.path.abspath(inputFile)))[1]\n",
        "sourceFolder = os.path.dirname(os.path.abspath(inputFile))\n",
        "\n",
        "if saveToSourceLocation:\n",
        "    outputFile = os.path.join(sourceFolder, (sourceName + f'_[NEW]' + sourceExtention))\n",
        "    commandLine = commandLine + '\"' + outputFile + '\"'\n",
        "else:\n",
        "    outputFolder = input(\"outputFolder: \")\n",
        "    outputFile = os.path.join(outputFolder, (sourceName + f'_[NEW]' + sourceExtention))\n",
        "    commandLine = commandLine + '\"' + outputFile + '\"'\n",
        "\n",
        "!ffmpeg {commandLine}"
      ],
      "metadata": {
        "cellView": "form",
        "id": "8Tu2aURHNJvp"
      },
      "execution_count": null,
      "outputs": []
    },
    {
      "cell_type": "markdown",
      "source": [
        "* For `H.265`/`HEVC` tracks run below cell."
      ],
      "metadata": {
        "id": "ZeQkfcTaNM_b"
      }
    },
    {
      "cell_type": "code",
      "source": [
        "import os\n",
        "import json\n",
        "import subprocess\n",
        "from IPython.display import clear_output\n",
        "\n",
        "inputFile = \"\" #@param {type:\"string\"}\n",
        "saveToSourceLocation = True #@param {type:\"boolean\"}\n",
        "\n",
        "jsonFFprobe = subprocess.check_output([\n",
        "    'ffprobe',\n",
        "    '-hide_banner',\n",
        "    '-loglevel',\n",
        "    'warning',\n",
        "    '-print_format',\n",
        "    'json',\n",
        "    '-show_entries',\n",
        "    'stream',\n",
        "    '-i',\n",
        "    os.path.abspath(inputFile),\n",
        "    ], stderr=subprocess.DEVNULL)\n",
        "jsonData = json.loads(jsonFFprobe)\n",
        "\n",
        "streamCount = len(jsonData['streams'])\n",
        "commandLine = f'-hide_banner -i \"{inputFile}\" '\n",
        "tracksALL = []\n",
        "tracksHEVC = []\n",
        "\n",
        "for i in range(streamCount):\n",
        "    indexALL = jsonData.get('streams')[int(i)].get('index')\n",
        "    tracksALL.append(indexALL)\n",
        "    codec_name = jsonData.get('streams')[int(i)].get('codec_name')\n",
        "    if codec_name == \"hevc\":\n",
        "        index = jsonData.get('streams')[int(i)].get('index')\n",
        "        tracksHEVC.append(index)\n",
        "\n",
        "commandLine = commandLine + f'-map 0:{tracksHEVC[0]} -c:v copy -an -sn -vbsf hevc_mp4toannexb /content/source-video.hevc && ffmpeg -hide_banner -i /content/source-video.hevc -c copy -vbsf filter_units=remove_types=39 /content/output.hevc && mkvmerge --output /content/output.mkv /content/output.hevc && ffmpeg -hide_banner -i /content/output.mkv -i \"{inputFile}\" -map 0:0 '\n",
        "for trackID in tracksALL:\n",
        "    if trackID != tracksHEVC[0]:\n",
        "        commandLine = commandLine + f'-map 1:{trackID} '\n",
        "commandLine = commandLine + f'-c copy '\n",
        "\n",
        "sourceName = os.path.splitext(os.path.basename(os.path.abspath(inputFile)))[0]\n",
        "sourceExtention = os.path.splitext(os.path.basename(os.path.abspath(inputFile)))[1]\n",
        "sourceFolder = os.path.dirname(os.path.abspath(inputFile))\n",
        "\n",
        "if saveToSourceLocation:\n",
        "    outputFile = os.path.join(sourceFolder, (sourceName + f'_[NEW]' + sourceExtention))\n",
        "    commandLine = commandLine + f'\"{outputFile}\"'\n",
        "else:\n",
        "    outputFolder = input(\"outputFolder: \")\n",
        "    outputFile = os.path.join(outputFolder, (sourceName + f'_[NEW]' + sourceExtention))\n",
        "    commandLine = commandLine + f'\"{outputFile}\"'\n",
        "\n",
        "!ffmpeg {commandLine}\n",
        "!rm /content/source-video.hevc\n",
        "!rm /content/output.hevc\n",
        "!rm /content/output.mkv"
      ],
      "metadata": {
        "cellView": "form",
        "id": "JzhZBR0zNP_V"
      },
      "execution_count": null,
      "outputs": []
    },
    {
      "cell_type": "markdown",
      "source": [
        "### __Encode H.264__"
      ],
      "metadata": {
        "id": "RsYc55qeNTGI"
      }
    },
    {
      "cell_type": "markdown",
      "source": [
        "* `CRF` and `2-Pass` encoding available.\n",
        "* This cell only encodes the **first video track** from the input file."
      ],
      "metadata": {
        "id": "r2msq54HNhNN"
      }
    },
    {
      "cell_type": "code",
      "source": [
        "inputFile = \"\"  #@param {type:\"string\"}\n",
        "encodeMode = \"CRF\" #@param [\"CRF\", \"2-Pass\"]\n",
        "saveToSourceLocation = True #@param {type:\"boolean\"}\n",
        "#@markdown ### __CRF Settings__\n",
        "crf = 19 #@param {type:\"slider\", min:0, max:51, step:1}\n",
        "#@markdown ### __2-Pass Settings__\n",
        "Bitrate = \"5800\" #@param {type:\"string\"}\n",
        "#@markdown ### __General Settings__\n",
        "Preset = \"veryslow\" #@param [\"ultrafast\", \"superfast\", \"veryfast\", \"faster\", \"fast\", \"medium\", \"slow\", \"slower\", \"veryslow\", \"placebo\"]\n",
        "Profile = \"high\" #@param [\"baseline\", \"main\", \"high\", \"high10\", \"high422\", \"high444\"]\n",
        "Level = \"4\" #@param [\"1\", \"1.1\", \"1.2\", \"1.3\", \"2\", \"2.1\", \"2.2\", \"3\", \"3.1\",\"3.2\", \"4\", \"4.1\", \"4.2\", \"5\", \"5.1\", \"5.2\"]\n",
        "bitDepth = \"8-Bit\" #@param [\"8-Bit\", \"10-Bit\"]\n",
        "Tune = \"None\" #@param [\"None\", \"film\", \"animation\", \"grain\", \"stillimage\", \"psnr\", \"ssim\", \"fastdecode\", \"zerolatency\"]\n",
        "Maxrate = \"8700\" #@param {type:\"string\"}\n",
        "Bufsize = \"11600\" #@param {type:\"string\"}\n",
        "\n",
        "import os\n",
        "\n",
        "commandLine = f'-preset {Preset} -profile:v {Profile} -level {Level} -maxrate {Maxrate}k -bufsize {Bufsize}k '\n",
        "\n",
        "if Tune != \"None\":\n",
        "    commandLine = commandLine + f'-tune {Tune} '\n",
        "if bitDepth == \"8-Bit\":\n",
        "    commandLine = commandLine + f'-pix_fmt yuv420p '\n",
        "elif bitDepth == \"10-Bit\":\n",
        "    commandLine = commandLine + f'-pix_fmt yuv420p10le '\n",
        "\n",
        "commandLine = commandLine + f'-partitions all -me_range 24 -nal-hrd 1 -sc_threshold 0 -x264-params \"colorprim=bt709:colormatrix=bt709:transfer=bt709:qpmin=6:qpmax=51:bframes=4:lookahead-threads=2:stitchable=1\"'\n",
        "\n",
        "sourceName = os.path.splitext(os.path.basename(os.path.abspath(inputFile)))[0]\n",
        "sourceExtention = os.path.splitext(os.path.basename(os.path.abspath(inputFile)))[1]\n",
        "sourceFolder = os.path.dirname(os.path.abspath(inputFile))\n",
        "\n",
        "if saveToSourceLocation:\n",
        "    outputFile = os.path.join(sourceFolder, (sourceName + f'_[Encoded]' + sourceExtention))\n",
        "else:\n",
        "    outputFolder = input(\"outputFolder: \")\n",
        "    outputFile = os.path.join(outputFolder, (sourceName + f'_[Encoded]' + sourceExtention))\n",
        "\n",
        "firstPass = f'-hide_banner -i \"{os.path.abspath(inputFile)}\" -map 0:v:0 -c:v libx264 -pass 1 -b:v {Bitrate}k {commandLine} -an -sn -y -f null /dev/null'\n",
        "secondPass = f'-hide_banner -i \"{os.path.abspath(inputFile)}\" -map 0:v:0 -c:v libx264 -pass 2 -b:v {Bitrate}k {commandLine} -map 0:a? -c:a copy -map 0:s? -c:s copy \"{outputFile}\"'\n",
        "crfPass = f'-hide_banner -i \"{os.path.abspath(inputFile)}\" -map 0:v:0 -c:v libx264 -crf {crf} {commandLine} -map 0:a? -c:a copy -map 0:s? -c:s copy \"{outputFile}\"'\n",
        "\n",
        "if encodeMode == 'CRF':\n",
        "    !ffmpeg {crfPass}\n",
        "else:\n",
        "    !ffmpeg {firstPass}\n",
        "    !ffmpeg {secondPass}"
      ],
      "metadata": {
        "cellView": "form",
        "id": "ZzhG6DYSNlk9"
      },
      "execution_count": null,
      "outputs": []
    },
    {
      "cell_type": "markdown",
      "source": [
        "### __HDR to SDR__"
      ],
      "metadata": {
        "id": "2k0_wCH0HOEJ"
      }
    },
    {
      "cell_type": "markdown",
      "source": [
        "* Convert `HDR` video to `SDR` video.\n",
        "* `toneMap`: Select tone mapping method."
      ],
      "metadata": {
        "id": "eEluAGkNHVO_"
      }
    },
    {
      "cell_type": "code",
      "source": [
        "import os\n",
        "\n",
        "inputFile = \"\" #@param {type:\"string\"}\n",
        "Codec = \"HEVC\" #@param [\"H.264\", \"HEVC\"]\n",
        "valueCRF = 22 #@param {type:\"slider\", min:0, max:51, step:1}\n",
        "bitDepth = \"10-Bit\" #@param [\"8-Bit\", \"10-Bit\"]\n",
        "toneMap = \"hable\" #@param [\"none\", \"clip\", \"linear\", \"gamma\", \"reinhard\", \"hable\", \"mobius\"]\n",
        "saveToSourceLocation = True #@param {type:\"boolean\"}\n",
        "\n",
        "if Codec == \"H.264\":\n",
        "  Codec = \"libx264\"\n",
        "elif Codec == \"HEVC\":\n",
        "  Codec = \"libx265\"\n",
        "\n",
        "if bitDepth == \"8-Bit\":\n",
        "    bitDepth = \"yuv420p\"\n",
        "elif bitDepth == \"10-Bit\":\n",
        "    bitDepth = \"yuv420p10le\"\n",
        "\n",
        "commandLine = f'-hide_banner -i \"{inputFile}\" -max_muxing_queue_size 1024 -c:v {Codec} -crf:v {valueCRF} -preset:v medium -pix_fmt {bitDepth} '\n",
        "\n",
        "if Codec == \"libx265\":\n",
        "    commandLine = commandLine + f'-x265-params \"aq-mode=2:repeat-headers=0:strong-intra-smoothing=1:bframes=4:b-adapt=2:frame-threads=0\" '\n",
        "commandLine = commandLine + f'-vf zscale=t=linear:npl=100,format=gbrpf32le,zscale=p=bt709,tonemap=tonemap={toneMap}:desat=0,zscale=t=bt709:m=bt709:r=tv,format={bitDepth} -map 0:a? -c:a copy -map 0:s? -c:s copy '\n",
        "\n",
        "sourceName = os.path.splitext(os.path.basename(os.path.abspath(inputFile)))[0]\n",
        "sourceExtention = os.path.splitext(os.path.basename(os.path.abspath(inputFile)))[1]\n",
        "sourceFolder = os.path.dirname(os.path.abspath(inputFile))\n",
        "\n",
        "if saveToSourceLocation:\n",
        "    outputFile = os.path.join(sourceFolder, (sourceName + f'_[SDR]' + sourceExtention))\n",
        "    commandLine = commandLine + '\"' + outputFile + '\"'\n",
        "else:\n",
        "    outputFolder = input(\"outputFolder: \")\n",
        "    outputFile = os.path.join(outputFolder, (sourceName + f'_[SDR]' + sourceExtention))\n",
        "    commandLine = commandLine + '\"' + outputFile + '\"'\n",
        "\n",
        "!ffmpeg {commandLine}"
      ],
      "metadata": {
        "id": "kn_Z3vq4HS5w",
        "cellView": "form"
      },
      "execution_count": null,
      "outputs": []
    },
    {
      "cell_type": "markdown",
      "source": [
        "### __HDR10 Encoding__"
      ],
      "metadata": {
        "id": "8nIA7SRf7Wp6"
      }
    },
    {
      "cell_type": "markdown",
      "source": [
        "* Only `x265`/`HEVC` tracks are supported.\n",
        "* `extractColors`: View the color information of the footage.\n",
        "* When encoding, make sure `extractColors` is **deselected**."
      ],
      "metadata": {
        "id": "R5irbiHS7a8j"
      }
    },
    {
      "cell_type": "code",
      "source": [
        "import os\n",
        "import json\n",
        "import subprocess\n",
        "\n",
        "inputFile = \"\" #@param {type:\"string\"}\n",
        "preset = \"slow\" #@param [\"ultrafast\", \"superfast\", \"veryfast\", \"faster\", \"fast\", \"medium\", \"slow\", \"slower\", \"veryslow\", \"placebo\"]\n",
        "profile = \"main10\" #@param [\"main\", \"main10\"]\n",
        "level = \"4\" #@param [\"1\", \"1.1\", \"1.2\", \"1.3\", \"2\", \"2.1\", \"2.2\", \"3\", \"3.1\",\"3.2\", \"4\", \"4.1\", \"4.2\", \"5\", \"5.1\", \"5.2\"]\n",
        "valueCRF = 19 #@param {type:\"slider\", min:0, max:51, step:1}\n",
        "extractColors = False #@param {type:\"boolean\"}\n",
        "saveToSourceLocation = True #@param {type:\"boolean\"}\n",
        "\n",
        "jsonFFprobe = subprocess.check_output([\n",
        "    'ffprobe', '-hide_banner', '-loglevel', 'warning',\n",
        "    '-print_format', 'json', '-show_frames', '-read_intervals', '%+#1', '-show_entries',\n",
        "    'format:stream:frame=color_space,color_primaries,color_transfer,side_data_list,pix_fmt',\n",
        "    '-i', os.path.abspath(inputFile)], stderr=subprocess.DEVNULL)\n",
        "jsonData = json.loads(jsonFFprobe)\n",
        "\n",
        "pix_fmt = jsonData.get('frames')[0].get('pix_fmt')\n",
        "\n",
        "if jsonData.get('frames')[0].get('color_space'):\n",
        "    color_space = jsonData.get('frames')[0].get('color_space')\n",
        "if jsonData.get('frames')[0].get('color_primaries'):\n",
        "    color_primaries = jsonData.get('frames')[0].get('color_primaries')\n",
        "if jsonData.get('frames')[0].get('color_transfer'):\n",
        "    color_transfer = jsonData.get('frames')[0].get('color_transfer')\n",
        "if jsonData.get('frames')[0].get('side_data_list'):\n",
        "    side_data_list = jsonData.get('frames')[0].get('side_data_list')[0]\n",
        "\n",
        "    red_x = round(eval(side_data_list.get('red_x', '0')), 4)\n",
        "    red_y = round(eval(side_data_list.get('red_y', '0')), 4)\n",
        "    green_x = round(eval(side_data_list.get('green_x', '0')), 4)\n",
        "    green_y = round(eval(side_data_list.get('green_y', '0')), 4)\n",
        "    blue_x = round(eval(side_data_list.get('blue_x', '0')), 4)\n",
        "    blue_y = round(eval(side_data_list.get('blue_y', '0')), 4)\n",
        "    white_point_x = round(eval(side_data_list.get('white_point_x', '0')), 4)\n",
        "    white_point_y = round(eval(side_data_list.get('white_point_y', '0')), 4)\n",
        "    min_luminance = round(eval(side_data_list.get('min_luminance', '0')), 4)\n",
        "    max_luminance = round(eval(side_data_list.get('max_luminance', '0')), 4)\n",
        "\n",
        "    cll_max_content = 0\n",
        "    cll_max_average = 0\n",
        "\n",
        "    try:\n",
        "        side_data_list = jsonData.get('frames')[0].get('side_data_list')[1]\n",
        "        cll_max_content = round(eval(str(side_data_list.get('max_content', '0'))), 4)\n",
        "        cll_max_average = round(eval(str(side_data_list.get('max_average', '0'))), 4)\n",
        "    except:\n",
        "        pass\n",
        "\n",
        "    x265_red_x = round(red_x / 0.00002)\n",
        "    x265_red_y = round(red_y / 0.00002)\n",
        "    x265_green_x = round(green_x / 0.00002)\n",
        "    x265_green_y = round(green_y / 0.00002)\n",
        "    x265_blue_x = round(blue_x / 0.00002)\n",
        "    x265_blue_y = round(blue_y / 0.00002)\n",
        "    x265_white_point_x = round(white_point_x / 0.00002)\n",
        "    x265_white_point_y = round(white_point_y / 0.00002)\n",
        "    x265_min_luminance = round(min_luminance / 0.0001)\n",
        "    x265_max_luminance = round(max_luminance / 0.0001)\n",
        "\n",
        "    x265_master_display_info = 'G(' + str(x265_green_x) + ',' + str(x265_green_y) + ')B(' \\\n",
        "        + str(x265_blue_x) + ',' + str(x265_blue_y) + ')R(' + str(x265_red_x) + ',' \\\n",
        "        + str(x265_red_y) + ')WP(' + str(x265_white_point_x) + ',' \\\n",
        "        + str(x265_white_point_y) + ')L(' + str(x265_max_luminance) + ',' \\\n",
        "        + str(x265_min_luminance) + '):max-cll=' + str(cll_max_content) \\\n",
        "        + ',' + str(cll_max_average)\n",
        "\n",
        "commandLine = f'-hide_banner -i \"{os.path.abspath(inputFile)}\" -map 0:v -c:v libx265 -crf {valueCRF} -preset {preset} '\n",
        "\n",
        "if pix_fmt == \"rgb24\":\n",
        "    print(\"You have selected a Non-HDR footage....\")\n",
        "else:\n",
        "    if extractColors:\n",
        "        if jsonData.get('frames')[0].get('color_space'):\n",
        "            print(\"color_space: \\t\\t\" + color_space)\n",
        "        if jsonData.get('frames')[0].get('color_primaries'):\n",
        "            print(\"color_primaries: \\t\" + color_primaries)\n",
        "        if jsonData.get('frames')[0].get('color_transfer'):\n",
        "            print(\"color_transfer: \\t\" + color_transfer)\n",
        "        if jsonData.get('frames')[0].get('side_data_list'):\n",
        "            print(\"master_display:\\t\\t\" + x265_master_display_info)\n",
        "    else:\n",
        "        if profile == \"main\":\n",
        "            commandLine = commandLine + f'-profile:v main -pix_fmt yuv420p '\n",
        "        elif profile == \"main10\":\n",
        "            commandLine = commandLine + f'-profile:v main10 -pix_fmt yuv420p10le '\n",
        "        if jsonData.get('frames')[0].get('side_data_list'):\n",
        "            commandLine = commandLine + f'-x265-params \"level-idc={level}:aq-mode=2:no-info=1:strong-intra-smoothing=1:bframes=4:b-adapt=2:frame-threads=0:hdr10=1:chromaloc=2:repeat-headers=1:aud=1:hrd=1:colorprim={color_primaries}:colormatrix={color_space}:transfer={color_transfer}:range=limited:master-display={x265_master_display_info}\" '\n",
        "        else:\n",
        "            commandLine = commandLine + f'-x265-params \"level-idc={level}:aq-mode=2:no-info=1:strong-intra-smoothing=1:bframes=4:b-adapt=2:frame-threads=0:chromaloc=2:repeat-headers=1:colorprim={color_primaries}:colormatrix={color_space}:transfer={color_transfer}:range=limited\" '\n",
        "        commandLine = commandLine + f'-map 0:a? -c:a copy -map 0:s? -c:s copy '\n",
        "\n",
        "        sourceName = os.path.splitext(os.path.basename(os.path.abspath(inputFile)))[0]\n",
        "        sourceExtention = os.path.splitext(os.path.basename(os.path.abspath(inputFile)))[1]\n",
        "        sourceFolder = os.path.dirname(os.path.abspath(inputFile))\n",
        "\n",
        "        if saveToSourceLocation:\n",
        "            outputFile = os.path.join(sourceFolder, (sourceName + f'_[HDR]' + sourceExtention))\n",
        "            commandLine = commandLine + '\"' + outputFile + '\"'\n",
        "        else:\n",
        "            outputFolder = input(\"outputFolder: \")\n",
        "            outputFile = os.path.join(outputFolder, (sourceName + f'_[HDR]' + sourceExtention))\n",
        "            commandLine = commandLine + '\"' + outputFile + '\"'\n",
        "\n",
        "        !ffmpeg {commandLine}"
      ],
      "metadata": {
        "cellView": "form",
        "id": "7uFEw4P87e7s"
      },
      "execution_count": null,
      "outputs": []
    }
  ]
}